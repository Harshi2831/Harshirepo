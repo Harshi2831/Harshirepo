{
 "cells": [
  {
   "cell_type": "code",
   "execution_count": 0,
   "metadata": {
    "application/vnd.databricks.v1+cell": {
     "cellMetadata": {
      "byteLimit": 2048000,
      "rowLimit": 10000
     },
     "inputWidgets": {},
     "nuid": "666fc1f1-6aff-43f4-9df6-34775cc07c7a",
     "showTitle": false,
     "tableResultSettingsMap": {},
     "title": ""
    }
   },
   "outputs": [],
   "source": [
    "storage_account_name = \"practicestrgacc\"\n",
    "storage_account_key = \"OjW3Dt8+bA9SZR2cFS2jWYJopJRBHmHTo7Rar81b73XKDYs6WY+MW6D69Bxm63AkLUITZ4UnFNqh+AStDgcuxA==\"\n",
    "\n",
    "# Configure Spark to use the storage account key\n",
    "spark.conf.set(f\"fs.azure.account.key.practicestrgacc.dfs.core.windows.net\",\"OjW3Dt8+bA9SZR2cFS2jWYJopJRBHmHTo7Rar81b73XKDYs6WY+MW6D69Bxm63AkLUITZ4UnFNqh+AStDgcuxA==\")"
   ]
  },
  {
   "cell_type": "code",
   "execution_count": 0,
   "metadata": {
    "application/vnd.databricks.v1+cell": {
     "cellMetadata": {
      "byteLimit": 2048000,
      "rowLimit": 10000
     },
     "inputWidgets": {},
     "nuid": "cfe50e90-bdc5-4075-ac49-d5e024def6e7",
     "showTitle": false,
     "tableResultSettingsMap": {},
     "title": ""
    }
   },
   "outputs": [
    {
     "output_type": "stream",
     "name": "stdout",
     "output_type": "stream",
     "text": [
      "+----------+-----------+------------+-------+\n|account_id|customer_id|account_type|balance|\n+----------+-----------+------------+-------+\n|         1|         45|     Savings|1000.50|\n|         2|         12|    Checking|2500.75|\n|         3|         78|     Savings|1500.00|\n|         4|         34|    Checking|3000.25|\n|         5|         56|     Savings| 500.00|\n+----------+-----------+------------+-------+\nonly showing top 5 rows\n\n"
     ]
    }
   ],
   "source": [
    "accounts_df = spark.read.format(\"csv\").option(\"header\", \"true\").load(\"abfss://raw@practicestrgacc.dfs.core.windows.net/accounts.csv\")\n",
    "\n",
    "accounts_df.show(5)\n"
   ]
  },
  {
   "cell_type": "code",
   "execution_count": 0,
   "metadata": {
    "application/vnd.databricks.v1+cell": {
     "cellMetadata": {
      "byteLimit": 2048000,
      "rowLimit": 10000
     },
     "inputWidgets": {},
     "nuid": "e31f1e58-a329-46e2-865d-80c884b8055a",
     "showTitle": false,
     "tableResultSettingsMap": {},
     "title": ""
    }
   },
   "outputs": [
    {
     "output_type": "display_data",
     "data": {
      "text/html": [
       "<style scoped>\n",
       "  .table-result-container {\n",
       "    max-height: 300px;\n",
       "    overflow: auto;\n",
       "  }\n",
       "  table, th, td {\n",
       "    border: 1px solid black;\n",
       "    border-collapse: collapse;\n",
       "  }\n",
       "  th, td {\n",
       "    padding: 5px;\n",
       "  }\n",
       "  th {\n",
       "    text-align: left;\n",
       "  }\n",
       "</style><div class='table-result-container'><table class='table-result'><thead style='background-color: white'><tr><th>account_id</th><th>customer_id</th><th>account_type</th><th>balance</th></tr></thead><tbody><tr><td>1</td><td>45</td><td>Savings</td><td>1000.50</td></tr><tr><td>48</td><td>6</td><td>Checking</td><td>4900.00</td></tr><tr><td>21</td><td>53</td><td>Savings</td><td>300.25</td></tr><tr><td>29</td><td>58</td><td>Savings</td><td>75.25</td></tr><tr><td>34</td><td>41</td><td>Checking</td><td>3500.50</td></tr><tr><td>35</td><td>62</td><td>Savings</td><td>175.75</td></tr><tr><td>5</td><td>56</td><td>Savings</td><td>500.00</td></tr><tr><td>78</td><td>4</td><td>Checking</td><td>7900.50</td></tr><tr><td>38</td><td>15</td><td>Checking</td><td>3900.50</td></tr><tr><td>33</td><td>85</td><td>Savings</td><td>150.25</td></tr><tr><td>36</td><td>27</td><td>Checking</td><td>3700.00</td></tr><tr><td>45</td><td>68</td><td>Savings</td><td>300.25</td></tr><tr><td>51</td><td>72</td><td>Savings</td><td>375.75</td></tr><tr><td>28</td><td>7</td><td>Checking</td><td>2900.00</td></tr><tr><td>15</td><td>47</td><td>Savings</td><td>700.75</td></tr><tr><td>27</td><td>94</td><td>Savings</td><td>50.75</td></tr><tr><td>31</td><td>71</td><td>Savings</td><td>125.75</td></tr><tr><td>98</td><td>49</td><td>Checking</td><td>9900.50</td></tr><tr><td>3</td><td>78</td><td>Savings</td><td>1500.00</td></tr><tr><td>83</td><td>82</td><td>Savings</td><td>775.75</td></tr><tr><td>80</td><td>30</td><td>Checking</td><td>8100.00</td></tr><tr><td>17</td><td>99</td><td>Savings</td><td>600.25</td></tr><tr><td>69</td><td>59</td><td>Savings</td><td>600.25</td></tr><tr><td>66</td><td>26</td><td>Checking</td><td>6700.50</td></tr><tr><td>64</td><td>12</td><td>Checking</td><td>6500.00</td></tr><tr><td>77</td><td>91</td><td>Savings</td><td>700.25</td></tr><tr><td>95</td><td>60</td><td>Savings</td><td>925.75</td></tr><tr><td>18</td><td>5</td><td>Checking</td><td>1600.50</td></tr><tr><td>94</td><td>39</td><td>Checking</td><td>9500.50</td></tr><tr><td>23</td><td>88</td><td>Savings</td><td>200.75</td></tr><tr><td>88</td><td>1</td><td>Checking</td><td>8900.00</td></tr><tr><td>24</td><td>11</td><td>Checking</td><td>2600.00</td></tr><tr><td>62</td><td>35</td><td>Checking</td><td>6300.50</td></tr><tr><td>30</td><td>32</td><td>Checking</td><td>3100.50</td></tr><tr><td>73</td><td>87</td><td>Savings</td><td>650.25</td></tr><tr><td>53</td><td>86</td><td>Savings</td><td>400.25</td></tr><tr><td>63</td><td>84</td><td>Savings</td><td>525.75</td></tr><tr><td>99</td><td>80</td><td>Savings</td><td>975.75</td></tr><tr><td>68</td><td>8</td><td>Checking</td><td>6900.00</td></tr><tr><td>25</td><td>66</td><td>Savings</td><td>100.25</td></tr><tr><td>54</td><td>42</td><td>Checking</td><td>5500.50</td></tr><tr><td>75</td><td>61</td><td>Savings</td><td>675.75</td></tr><tr><td>13</td><td>29</td><td>Savings</td><td>1300.25</td></tr><tr><td>44</td><td>13</td><td>Checking</td><td>4500.00</td></tr><tr><td>56</td><td>28</td><td>Checking</td><td>5700.00</td></tr><tr><td>86</td><td>21</td><td>Checking</td><td>8700.50</td></tr><tr><td>76</td><td>22</td><td>Checking</td><td>7700.00</td></tr><tr><td>87</td><td>93</td><td>Savings</td><td>825.75</td></tr><tr><td>6</td><td>23</td><td>Checking</td><td>1200.50</td></tr><tr><td>79</td><td>55</td><td>Savings</td><td>725.75</td></tr><tr><td>84</td><td>40</td><td>Checking</td><td>8500.00</td></tr><tr><td>91</td><td>77</td><td>Savings</td><td>875.75</td></tr><tr><td>39</td><td>74</td><td>Savings</td><td>225.75</td></tr><tr><td>19</td><td>76</td><td>Savings</td><td>400.75</td></tr><tr><td>74</td><td>43</td><td>Checking</td><td>7500.50</td></tr><tr><td>59</td><td>75</td><td>Savings</td><td>475.75</td></tr><tr><td>67</td><td>96</td><td>Savings</td><td>575.75</td></tr><tr><td>71</td><td>73</td><td>Savings</td><td>625.75</td></tr><tr><td>32</td><td>9</td><td>Checking</td><td>3300.00</td></tr><tr><td>37</td><td>98</td><td>Savings</td><td>200.25</td></tr><tr><td>81</td><td>70</td><td>Savings</td><td>750.25</td></tr><tr><td>60</td><td>20</td><td>Checking</td><td>6100.00</td></tr><tr><td>85</td><td>65</td><td>Savings</td><td>800.25</td></tr><tr><td>93</td><td>79</td><td>Savings</td><td>900.25</td></tr><tr><td>42</td><td>36</td><td>Checking</td><td>4300.50</td></tr><tr><td>8</td><td>67</td><td>Checking</td><td>2200.00</td></tr><tr><td>70</td><td>33</td><td>Checking</td><td>7100.50</td></tr><tr><td>96</td><td>48</td><td>Checking</td><td>9700.00</td></tr><tr><td>20</td><td>21</td><td>Checking</td><td>2000.00</td></tr><tr><td>49</td><td>57</td><td>Savings</td><td>350.25</td></tr><tr><td>14</td><td>64</td><td>Checking</td><td>3200.50</td></tr><tr><td>100</td><td>50</td><td>Checking</td><td>10100.00</td></tr><tr><td>10</td><td>92</td><td>Checking</td><td>1800.50</td></tr><tr><td>72</td><td>17</td><td>Checking</td><td>7300.00</td></tr><tr><td>61</td><td>52</td><td>Savings</td><td>500.25</td></tr><tr><td>47</td><td>95</td><td>Savings</td><td>325.75</td></tr><tr><td>46</td><td>24</td><td>Checking</td><td>4700.50</td></tr><tr><td>9</td><td>14</td><td>Savings</td><td>900.25</td></tr><tr><td>65</td><td>69</td><td>Savings</td><td>550.25</td></tr><tr><td>50</td><td>31</td><td>Checking</td><td>5100.50</td></tr><tr><td>40</td><td>19</td><td>Checking</td><td>4100.00</td></tr><tr><td>89</td><td>54</td><td>Savings</td><td>850.25</td></tr><tr><td>4</td><td>34</td><td>Checking</td><td>3000.25</td></tr><tr><td>55</td><td>63</td><td>Savings</td><td>425.75</td></tr><tr><td>16</td><td>18</td><td>Checking</td><td>1400.00</td></tr><tr><td>26</td><td>25</td><td>Checking</td><td>2800.50</td></tr><tr><td>11</td><td>3</td><td>Savings</td><td>1100.75</td></tr><tr><td>43</td><td>83</td><td>Savings</td><td>275.75</td></tr><tr><td>57</td><td>97</td><td>Savings</td><td>450.25</td></tr><tr><td>58</td><td>16</td><td>Checking</td><td>5900.50</td></tr><tr><td>52</td><td>10</td><td>Checking</td><td>5300.00</td></tr><tr><td>7</td><td>89</td><td>Savings</td><td>800.75</td></tr><tr><td>41</td><td>51</td><td>Savings</td><td>250.25</td></tr><tr><td>22</td><td>37</td><td>Checking</td><td>2400.50</td></tr><tr><td>82</td><td>2</td><td>Checking</td><td>8300.50</td></tr><tr><td>2</td><td>12</td><td>Checking</td><td>2500.75</td></tr><tr><td>92</td><td>44</td><td>Checking</td><td>9300.00</td></tr><tr><td>90</td><td>38</td><td>Checking</td><td>9100.50</td></tr><tr><td>97</td><td>90</td><td>Savings</td><td>950.25</td></tr><tr><td>12</td><td>81</td><td>Checking</td><td>2700.00</td></tr></tbody></table></div>"
      ]
     },
     "metadata": {
      "application/vnd.databricks.v1+output": {
       "addedWidgets": {},
       "aggData": [],
       "aggError": "",
       "aggOverflow": false,
       "aggSchema": [],
       "aggSeriesLimitReached": false,
       "aggType": "",
       "arguments": {},
       "columnCustomDisplayInfos": {},
       "data": [
        [
         "1",
         "45",
         "Savings",
         "1000.50"
        ],
        [
         "48",
         "6",
         "Checking",
         "4900.00"
        ],
        [
         "21",
         "53",
         "Savings",
         "300.25"
        ],
        [
         "29",
         "58",
         "Savings",
         "75.25"
        ],
        [
         "34",
         "41",
         "Checking",
         "3500.50"
        ],
        [
         "35",
         "62",
         "Savings",
         "175.75"
        ],
        [
         "5",
         "56",
         "Savings",
         "500.00"
        ],
        [
         "78",
         "4",
         "Checking",
         "7900.50"
        ],
        [
         "38",
         "15",
         "Checking",
         "3900.50"
        ],
        [
         "33",
         "85",
         "Savings",
         "150.25"
        ],
        [
         "36",
         "27",
         "Checking",
         "3700.00"
        ],
        [
         "45",
         "68",
         "Savings",
         "300.25"
        ],
        [
         "51",
         "72",
         "Savings",
         "375.75"
        ],
        [
         "28",
         "7",
         "Checking",
         "2900.00"
        ],
        [
         "15",
         "47",
         "Savings",
         "700.75"
        ],
        [
         "27",
         "94",
         "Savings",
         "50.75"
        ],
        [
         "31",
         "71",
         "Savings",
         "125.75"
        ],
        [
         "98",
         "49",
         "Checking",
         "9900.50"
        ],
        [
         "3",
         "78",
         "Savings",
         "1500.00"
        ],
        [
         "83",
         "82",
         "Savings",
         "775.75"
        ],
        [
         "80",
         "30",
         "Checking",
         "8100.00"
        ],
        [
         "17",
         "99",
         "Savings",
         "600.25"
        ],
        [
         "69",
         "59",
         "Savings",
         "600.25"
        ],
        [
         "66",
         "26",
         "Checking",
         "6700.50"
        ],
        [
         "64",
         "12",
         "Checking",
         "6500.00"
        ],
        [
         "77",
         "91",
         "Savings",
         "700.25"
        ],
        [
         "95",
         "60",
         "Savings",
         "925.75"
        ],
        [
         "18",
         "5",
         "Checking",
         "1600.50"
        ],
        [
         "94",
         "39",
         "Checking",
         "9500.50"
        ],
        [
         "23",
         "88",
         "Savings",
         "200.75"
        ],
        [
         "88",
         "1",
         "Checking",
         "8900.00"
        ],
        [
         "24",
         "11",
         "Checking",
         "2600.00"
        ],
        [
         "62",
         "35",
         "Checking",
         "6300.50"
        ],
        [
         "30",
         "32",
         "Checking",
         "3100.50"
        ],
        [
         "73",
         "87",
         "Savings",
         "650.25"
        ],
        [
         "53",
         "86",
         "Savings",
         "400.25"
        ],
        [
         "63",
         "84",
         "Savings",
         "525.75"
        ],
        [
         "99",
         "80",
         "Savings",
         "975.75"
        ],
        [
         "68",
         "8",
         "Checking",
         "6900.00"
        ],
        [
         "25",
         "66",
         "Savings",
         "100.25"
        ],
        [
         "54",
         "42",
         "Checking",
         "5500.50"
        ],
        [
         "75",
         "61",
         "Savings",
         "675.75"
        ],
        [
         "13",
         "29",
         "Savings",
         "1300.25"
        ],
        [
         "44",
         "13",
         "Checking",
         "4500.00"
        ],
        [
         "56",
         "28",
         "Checking",
         "5700.00"
        ],
        [
         "86",
         "21",
         "Checking",
         "8700.50"
        ],
        [
         "76",
         "22",
         "Checking",
         "7700.00"
        ],
        [
         "87",
         "93",
         "Savings",
         "825.75"
        ],
        [
         "6",
         "23",
         "Checking",
         "1200.50"
        ],
        [
         "79",
         "55",
         "Savings",
         "725.75"
        ],
        [
         "84",
         "40",
         "Checking",
         "8500.00"
        ],
        [
         "91",
         "77",
         "Savings",
         "875.75"
        ],
        [
         "39",
         "74",
         "Savings",
         "225.75"
        ],
        [
         "19",
         "76",
         "Savings",
         "400.75"
        ],
        [
         "74",
         "43",
         "Checking",
         "7500.50"
        ],
        [
         "59",
         "75",
         "Savings",
         "475.75"
        ],
        [
         "67",
         "96",
         "Savings",
         "575.75"
        ],
        [
         "71",
         "73",
         "Savings",
         "625.75"
        ],
        [
         "32",
         "9",
         "Checking",
         "3300.00"
        ],
        [
         "37",
         "98",
         "Savings",
         "200.25"
        ],
        [
         "81",
         "70",
         "Savings",
         "750.25"
        ],
        [
         "60",
         "20",
         "Checking",
         "6100.00"
        ],
        [
         "85",
         "65",
         "Savings",
         "800.25"
        ],
        [
         "93",
         "79",
         "Savings",
         "900.25"
        ],
        [
         "42",
         "36",
         "Checking",
         "4300.50"
        ],
        [
         "8",
         "67",
         "Checking",
         "2200.00"
        ],
        [
         "70",
         "33",
         "Checking",
         "7100.50"
        ],
        [
         "96",
         "48",
         "Checking",
         "9700.00"
        ],
        [
         "20",
         "21",
         "Checking",
         "2000.00"
        ],
        [
         "49",
         "57",
         "Savings",
         "350.25"
        ],
        [
         "14",
         "64",
         "Checking",
         "3200.50"
        ],
        [
         "100",
         "50",
         "Checking",
         "10100.00"
        ],
        [
         "10",
         "92",
         "Checking",
         "1800.50"
        ],
        [
         "72",
         "17",
         "Checking",
         "7300.00"
        ],
        [
         "61",
         "52",
         "Savings",
         "500.25"
        ],
        [
         "47",
         "95",
         "Savings",
         "325.75"
        ],
        [
         "46",
         "24",
         "Checking",
         "4700.50"
        ],
        [
         "9",
         "14",
         "Savings",
         "900.25"
        ],
        [
         "65",
         "69",
         "Savings",
         "550.25"
        ],
        [
         "50",
         "31",
         "Checking",
         "5100.50"
        ],
        [
         "40",
         "19",
         "Checking",
         "4100.00"
        ],
        [
         "89",
         "54",
         "Savings",
         "850.25"
        ],
        [
         "4",
         "34",
         "Checking",
         "3000.25"
        ],
        [
         "55",
         "63",
         "Savings",
         "425.75"
        ],
        [
         "16",
         "18",
         "Checking",
         "1400.00"
        ],
        [
         "26",
         "25",
         "Checking",
         "2800.50"
        ],
        [
         "11",
         "3",
         "Savings",
         "1100.75"
        ],
        [
         "43",
         "83",
         "Savings",
         "275.75"
        ],
        [
         "57",
         "97",
         "Savings",
         "450.25"
        ],
        [
         "58",
         "16",
         "Checking",
         "5900.50"
        ],
        [
         "52",
         "10",
         "Checking",
         "5300.00"
        ],
        [
         "7",
         "89",
         "Savings",
         "800.75"
        ],
        [
         "41",
         "51",
         "Savings",
         "250.25"
        ],
        [
         "22",
         "37",
         "Checking",
         "2400.50"
        ],
        [
         "82",
         "2",
         "Checking",
         "8300.50"
        ],
        [
         "2",
         "12",
         "Checking",
         "2500.75"
        ],
        [
         "92",
         "44",
         "Checking",
         "9300.00"
        ],
        [
         "90",
         "38",
         "Checking",
         "9100.50"
        ],
        [
         "97",
         "90",
         "Savings",
         "950.25"
        ],
        [
         "12",
         "81",
         "Checking",
         "2700.00"
        ]
       ],
       "datasetInfos": [],
       "dbfsResultPath": null,
       "isJsonSchema": true,
       "metadata": {},
       "overflow": false,
       "plotOptions": {
        "customPlotOptions": {},
        "displayType": "table",
        "pivotAggregation": null,
        "pivotColumns": null,
        "xColumns": null,
        "yColumns": null
       },
       "removedWidgets": [],
       "schema": [
        {
         "metadata": "{}",
         "name": "account_id",
         "type": "\"string\""
        },
        {
         "metadata": "{}",
         "name": "customer_id",
         "type": "\"string\""
        },
        {
         "metadata": "{}",
         "name": "account_type",
         "type": "\"string\""
        },
        {
         "metadata": "{}",
         "name": "balance",
         "type": "\"string\""
        }
       ],
       "type": "table"
      }
     },
     "output_type": "display_data"
    }
   ],
   "source": [
    "# 2. Handle Missing Values\n",
    "accounts_df = accounts_df.fillna({'balance': 'Unknown'})\n",
    "\n",
    "# 3. Remove Duplicate Rows\n",
    "accounts_df = accounts_df.dropDuplicates()\n",
    "\n",
    "display(accounts_df)\n"
   ]
  },
  {
   "cell_type": "code",
   "execution_count": 0,
   "metadata": {
    "application/vnd.databricks.v1+cell": {
     "cellMetadata": {
      "byteLimit": 2048000,
      "rowLimit": 10000
     },
     "inputWidgets": {},
     "nuid": "2f22c183-799f-47ec-a5d6-6cb1e06aa1f4",
     "showTitle": false,
     "tableResultSettingsMap": {},
     "title": ""
    }
   },
   "outputs": [
    {
     "output_type": "stream",
     "name": "stdout",
     "output_type": "stream",
     "text": [
      "+----------+-----------+------------+-------+\n|account_id|customer_id|account_type|balance|\n+----------+-----------+------------+-------+\n|         7|         89|     Savings| 800.75|\n|        51|         72|     Savings| 375.75|\n|        15|         47|     Savings| 700.75|\n|        54|         42|    Checking|5500.50|\n|        11|          3|     Savings|1100.75|\n|        29|         58|     Savings|  75.25|\n|        69|         59|     Savings| 600.25|\n|        42|         36|    Checking|4300.50|\n|        73|         87|     Savings| 650.25|\n|        87|         93|     Savings| 825.75|\n+----------+-----------+------------+-------+\nonly showing top 10 rows\n\n"
     ]
    }
   ],
   "source": [
    "\n",
    "# Remove rows with null values in important columns\n",
    "accounts_df = accounts_df.dropna(subset=[\"account_id\", \"balance\"])\n",
    "\n",
    "# Remove duplicate rows\n",
    "accounts_df = accounts_df.dropDuplicates([\"account_id\"])\n",
    "accounts_df.show(10)"
   ]
  },
  {
   "cell_type": "code",
   "execution_count": 0,
   "metadata": {
    "application/vnd.databricks.v1+cell": {
     "cellMetadata": {},
     "inputWidgets": {},
     "nuid": "6cd5f386-fe8c-49f5-a37a-96f807da3dbd",
     "showTitle": false,
     "tableResultSettingsMap": {},
     "title": ""
    }
   },
   "outputs": [],
   "source": [
    "accounts_df.write.format(\"delta\").mode(\"overwrite\").save(\"/mnt/datalake/processed/accounts_cleaned\")"
   ]
  },
  {
   "cell_type": "code",
   "execution_count": 0,
   "metadata": {
    "application/vnd.databricks.v1+cell": {
     "cellMetadata": {
      "byteLimit": 2048000,
      "rowLimit": 10000
     },
     "inputWidgets": {},
     "nuid": "357d987c-8805-497e-8ed9-04ef2279e29d",
     "showTitle": false,
     "tableResultSettingsMap": {},
     "title": ""
    }
   },
   "outputs": [
    {
     "output_type": "stream",
     "name": "stdout",
     "output_type": "stream",
     "text": [
      "+----------+-----------+------------+-------+\n|account_id|customer_id|account_type|balance|\n+----------+-----------+------------+-------+\n|         7|         89|     Savings| 800.75|\n|        51|         72|     Savings| 375.75|\n|        15|         47|     Savings| 700.75|\n|        54|         42|    Checking|5500.50|\n|        11|          3|     Savings|1100.75|\n|        29|         58|     Savings|  75.25|\n|        69|         59|     Savings| 600.25|\n|        42|         36|    Checking|4300.50|\n|        73|         87|     Savings| 650.25|\n|        87|         93|     Savings| 825.75|\n+----------+-----------+------------+-------+\nonly showing top 10 rows\n\n"
     ]
    }
   ],
   "source": [
    "accounts_df.write.format(\"csv\").mode(\"overwrite\").option(\"header\", \"true\").save(\"abfss://processed@practicestrgacc.dfs.core.windows.net/accounts_df.csv\")\n",
    "accounts_df.show(10)"
   ]
  }
 ],
 "metadata": {
  "application/vnd.databricks.v1+notebook": {
   "dashboards": [],
   "environmentMetadata": {
    "base_environment": "",
    "client": "1"
   },
   "language": "python",
   "notebookMetadata": {
    "pythonIndentUnit": 4
   },
   "notebookName": "ETL",
   "widgets": {}
  },
  "language_info": {
   "name": "python"
  }
 },
 "nbformat": 4,
 "nbformat_minor": 0
}