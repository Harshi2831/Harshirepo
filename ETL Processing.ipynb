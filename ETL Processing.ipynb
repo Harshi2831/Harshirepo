{
 "cells": [
  {
   "cell_type": "code",
   "execution_count": 0,
   "metadata": {
    "application/vnd.databricks.v1+cell": {
     "cellMetadata": {
      "byteLimit": 2048000,
      "rowLimit": 10000
     },
     "inputWidgets": {},
     "nuid": "22e69859-f861-4c67-982b-1c668924799c",
     "showTitle": false,
     "tableResultSettingsMap": {},
     "title": ""
    }
   },
   "outputs": [],
   "source": [
    "storage_account_name = \"strgacc2831\"\n",
    "storage_account_key = \"nK93TB+8Q47M4LiV45af/QN9W01RMS1NJYTe3ITBfE/QetSi7jp2jAtmC/DsNenMGt5aNqGjDBxR+AStA8o5SA==\"\n",
    "\n",
    "# Configure Spark to use the storage account key\n",
    "spark.conf.set(f\"fs.azure.account.key.strgacc2831.dfs.core.windows.net\",\"nK93TB+8Q47M4LiV45af/QN9W01RMS1NJYTe3ITBfE/QetSi7jp2jAtmC/DsNenMGt5aNqGjDBxR+AStA8o5SA==\")"
   ]
  },
  {
   "cell_type": "code",
   "execution_count": 0,
   "metadata": {
    "application/vnd.databricks.v1+cell": {
     "cellMetadata": {
      "byteLimit": 2048000,
      "rowLimit": 10000
     },
     "inputWidgets": {},
     "nuid": "fd4bbec2-85ef-40f6-905d-b16a6f626523",
     "showTitle": false,
     "tableResultSettingsMap": {},
     "title": ""
    }
   },
   "outputs": [],
   "source": [
    "# Set up configuration for accessing ADLS with a SAS token\n",
    "spark.conf.set(\n",
    "    \"fs.azure.sas.silver.strgacc2831.dfs.core.windows.net\",\n",
    "    \"sv=2022-11-02&ss=bfqt&srt=sco&sp=rwdlacupyx&se=2024-11-08T09:12:09Z&st=2024-11-08T01:12:09Z&spr=https&sig=93v7nCVWLv3xH6v%2Fx5KvVAloWG83JJNJ5vBX9dcA%2Bjw%3D\"\n",
    ")\n"
   ]
  },
  {
   "cell_type": "code",
   "execution_count": 0,
   "metadata": {
    "application/vnd.databricks.v1+cell": {
     "cellMetadata": {
      "byteLimit": 2048000,
      "rowLimit": 10000
     },
     "inputWidgets": {},
     "nuid": "0480a1ad-de36-402c-afed-5757ce23101d",
     "showTitle": false,
     "tableResultSettingsMap": {},
     "title": ""
    }
   },
   "outputs": [
    {
     "output_type": "stream",
     "name": "stdout",
     "output_type": "stream",
     "text": [
      "+-----------+----------+------------+-------+\n|customer_id|account_id|account_type|balance|\n+-----------+----------+------------+-------+\n|          7|        28|    Checking|2900.00|\n|         51|        41|     Savings| 250.25|\n|         15|        38|    Checking|3900.50|\n|         54|        89|     Savings| 850.25|\n|         11|        24|    Checking|2600.00|\n+-----------+----------+------------+-------+\nonly showing top 5 rows\n\n+-----------+----------+---------+--------------+---------+-----+------+\n|customer_id|first_name|last_name|       address|     city|state|   zip|\n+-----------+----------+---------+--------------+---------+-----+------+\n|          1|      John|      Doe|    123 Elm St|  Toronto|   ON|M4B1B3|\n|          2|      Jane|    Smith| 456 Maple Ave|   Ottawa|   ON|K1A0B1|\n|          3|   Michael|  Johnson|    789 Oak Dr| Montreal|   QC|H1A1A1|\n|          4|     Emily|    Davis|   101 Pine Rd|  Calgary|   AB|T2A0A1|\n|          5|     David|   Wilson|202 Birch Blvd|Vancouver|   BC|V5K0A1|\n+-----------+----------+---------+--------------+---------+-----+------+\nonly showing top 5 rows\n\n"
     ]
    }
   ],
   "source": [
    "# Assuming both files are in CSV format\n",
    "accounts_df = spark.read.format(\"csv\").option(\"header\", \"true\").load(\"abfss://silver@strgacc2831.dfs.core.windows.net/cleaned_accounts.csv/part-00000-tid-1480919646493366281-e08f047d-1733-4059-8af7-4a1ba5f7a417-42-1-c000.csv\")\n",
    "customers_df = spark.read.format(\"csv\").option(\"header\", \"true\").load(\"abfss://silver@strgacc2831.dfs.core.windows.net/customers.csv\")\n",
    "\n",
    "accounts_df.show(5)\n",
    "customers_df.show(5)\n",
    "\n",
    "\n"
   ]
  },
  {
   "cell_type": "code",
   "execution_count": 0,
   "metadata": {
    "application/vnd.databricks.v1+cell": {
     "cellMetadata": {
      "byteLimit": 2048000,
      "rowLimit": 10000
     },
     "inputWidgets": {},
     "nuid": "f2536560-6509-45ac-b0e7-cb63e8441380",
     "showTitle": false,
     "tableResultSettingsMap": {},
     "title": ""
    }
   },
   "outputs": [
    {
     "output_type": "stream",
     "name": "stdout",
     "output_type": "stream",
     "text": [
      "+-----------+-----------+---------+---------------+---------------+-----+------+------------+-------------+\n|customer_id| first_name|last_name|        address|           city|state|   zip|account_type|total_balance|\n+-----------+-----------+---------+---------------+---------------+-----+------+------------+-------------+\n|         86|     Olivia|   Gibson|    8585 Elm St|   New Liskeard|   ON|P0J0A1|     Savings|       400.25|\n|         81|    Michael|    Owens| 8080 Willow Rd|        Mattawa|   ON|P0H0A1|    Checking|       2700.0|\n|         26|    Abigail|   Parker| 2525 Poplar St|         Barrie|   ON|L4M0A1|    Checking|       6700.5|\n|         20|        Mia|   Nelson|1919 Birch Blvd|         London|   ON|N6A0A1|    Checking|       6100.0|\n|          5|      David|   Wilson| 202 Birch Blvd|      Vancouver|   BC|V5K0A1|    Checking|       1600.5|\n|         53|      James|  Jenkins| 5252 Willow Rd|    Queensville|   ON|L0G0A1|     Savings|       300.25|\n|         83|      David|   Fisher|  8282 Ash Blvd|         Verner|   ON|P0H0A1|     Savings|       275.75|\n|         40|     Sophia|   Rivera| 3939 Poplar St|         Milton|   ON|L9T0A1|    Checking|       8500.0|\n|         57|      David|Patterson|  5656 Cedar Ln|      King City|   ON|L7B0A1|     Savings|       350.25|\n|         82|  Elizabeth| Reynolds| 8181 Poplar St| Sturgeon Falls|   ON|P2B0A1|     Savings|       775.75|\n|         65|     Daniel|   Bryant|6464 Redwood Dr|        Elmvale|   ON|L0L0A1|     Savings|       800.25|\n|         21|     Andrew| Mitchell| 2020 Spruce Ln|       Hamilton|   ON|L8P0A1|    Checking|      10700.5|\n|         71|Christopher|    Myers|  7070 Cedar Ln|      Coldwater|   ON|L0K0A1|     Savings|       125.75|\n|          2|       Jane|    Smith|  456 Maple Ave|         Ottawa|   ON|K1A0B1|    Checking|       8300.5|\n|         55|    Michael|   Butler|  5454 Ash Blvd|Holland Landing|   ON|L9N0A1|     Savings|       725.75|\n|         79|      James|     West|7878 Redwood Dr|    South River|   ON|P0A0A1|     Savings|       900.25|\n|         69|     Joseph|     Diaz|  6868 Ash Blvd|  Port McNicoll|   ON|L0K0A1|     Savings|       550.25|\n|         84|     Sophia|    Ellis|  8383 Beech Dr|          Field|   ON|P0H0A1|     Savings|       525.75|\n|         58|     Sophia|   Hughes|    5757 Elm St|       Nobleton|   ON|L0G0A1|     Savings|        75.25|\n|         33|       John|   Rogers|   3232 Pine Rd|        Timmins|   ON|P4N0A1|    Checking|       7100.5|\n+-----------+-----------+---------+---------------+---------------+-----+------+------------+-------------+\nonly showing top 20 rows\n\n"
     ]
    }
   ],
   "source": [
    "from pyspark.sql import functions as F\n",
    "\n",
    "# Convert balance column to float if necessary\n",
    "accounts_df = accounts_df.withColumn(\"balance\", F.col(\"balance\").cast(\"float\"))\n",
    "\n",
    "# Join customers and accounts DataFrames on customer_id and select specific columns to avoid ambiguity\n",
    "joined_df = customers_df.alias(\"cust\").join(accounts_df.alias(\"acct\"), F.col(\"cust.customer_id\") == F.col(\"acct.customer_id\"), \"inner\") \\\n",
    "    .select(\n",
    "        F.col(\"cust.customer_id\").alias(\"customer_id\"),\n",
    "        \"first_name\",\n",
    "        \"last_name\",\n",
    "        \"address\",\n",
    "        \"city\",\n",
    "        \"state\",\n",
    "        \"zip\",\n",
    "        \"account_type\",\n",
    "        \"balance\"\n",
    "    )\n",
    "\n",
    "# Aggregate to calculate the total balance for each customer\n",
    "result_df = joined_df.groupBy(\n",
    "    \"customer_id\",\n",
    "    \"first_name\",\n",
    "    \"last_name\",\n",
    "    \"address\",\n",
    "    \"city\",\n",
    "    \"state\",\n",
    "    \"zip\",\n",
    "    \"account_type\"\n",
    ").agg(\n",
    "    F.sum(\"balance\").alias(\"total_balance\")\n",
    ")\n",
    "# Display the result\n",
    "result_df.show()"
   ]
  },
  {
   "cell_type": "code",
   "execution_count": 0,
   "metadata": {
    "application/vnd.databricks.v1+cell": {
     "cellMetadata": {
      "byteLimit": 2048000,
      "rowLimit": 10000
     },
     "inputWidgets": {},
     "nuid": "7bc2dda6-89e5-4291-9a66-e7771fade102",
     "showTitle": false,
     "tableResultSettingsMap": {},
     "title": ""
    }
   },
   "outputs": [],
   "source": [
    "# Write the sorted DataFrame to Azure Data Lake Storage in CSV format\n",
    "result_df.write.format(\"csv\").mode(\"overwrite\").option(\"header\", \"true\").save(\"abfss://silver@strgacc2831.dfs.core.windows.net/total_balance_per_customer.csv\")"
   ]
  },
  {
   "cell_type": "code",
   "execution_count": 0,
   "metadata": {
    "application/vnd.databricks.v1+cell": {
     "cellMetadata": {
      "byteLimit": 2048000,
      "rowLimit": 10000
     },
     "inputWidgets": {},
     "nuid": "e86a926e-4826-4fde-9e82-e7ffd1ca2cfc",
     "showTitle": false,
     "tableResultSettingsMap": {},
     "title": ""
    }
   },
   "outputs": [
    {
     "output_type": "stream",
     "name": "stdout",
     "output_type": "stream",
     "text": [
      "+-----------+-----------+---------+---------------+---------------+-----+------+------------+-------------+\n|customer_id| first_name|last_name|        address|           city|state|   zip|account_type|total_balance|\n+-----------+-----------+---------+---------------+---------------+-----+------+------------+-------------+\n|         86|     Olivia|   Gibson|    8585 Elm St|   New Liskeard|   ON|P0J0A1|     Savings|       400.25|\n|         81|    Michael|    Owens| 8080 Willow Rd|        Mattawa|   ON|P0H0A1|    Checking|       2700.0|\n|         26|    Abigail|   Parker| 2525 Poplar St|         Barrie|   ON|L4M0A1|    Checking|       6700.5|\n|         20|        Mia|   Nelson|1919 Birch Blvd|         London|   ON|N6A0A1|    Checking|       6100.0|\n|          5|      David|   Wilson| 202 Birch Blvd|      Vancouver|   BC|V5K0A1|    Checking|       1600.5|\n|         53|      James|  Jenkins| 5252 Willow Rd|    Queensville|   ON|L0G0A1|     Savings|       300.25|\n|         83|      David|   Fisher|  8282 Ash Blvd|         Verner|   ON|P0H0A1|     Savings|       275.75|\n|         40|     Sophia|   Rivera| 3939 Poplar St|         Milton|   ON|L9T0A1|    Checking|       8500.0|\n|         57|      David|Patterson|  5656 Cedar Ln|      King City|   ON|L7B0A1|     Savings|       350.25|\n|         82|  Elizabeth| Reynolds| 8181 Poplar St| Sturgeon Falls|   ON|P2B0A1|     Savings|       775.75|\n|         65|     Daniel|   Bryant|6464 Redwood Dr|        Elmvale|   ON|L0L0A1|     Savings|       800.25|\n|         21|     Andrew| Mitchell| 2020 Spruce Ln|       Hamilton|   ON|L8P0A1|    Checking|      10700.5|\n|         71|Christopher|    Myers|  7070 Cedar Ln|      Coldwater|   ON|L0K0A1|     Savings|       125.75|\n|          2|       Jane|    Smith|  456 Maple Ave|         Ottawa|   ON|K1A0B1|    Checking|       8300.5|\n|         55|    Michael|   Butler|  5454 Ash Blvd|Holland Landing|   ON|L9N0A1|     Savings|       725.75|\n|         79|      James|     West|7878 Redwood Dr|    South River|   ON|P0A0A1|     Savings|       900.25|\n|         69|     Joseph|     Diaz|  6868 Ash Blvd|  Port McNicoll|   ON|L0K0A1|     Savings|       550.25|\n|         84|     Sophia|    Ellis|  8383 Beech Dr|          Field|   ON|P0H0A1|     Savings|       525.75|\n|         58|     Sophia|   Hughes|    5757 Elm St|       Nobleton|   ON|L0G0A1|     Savings|        75.25|\n|         33|       John|   Rogers|   3232 Pine Rd|        Timmins|   ON|P4N0A1|    Checking|       7100.5|\n+-----------+-----------+---------+---------------+---------------+-----+------+------------+-------------+\nonly showing top 20 rows\n\n"
     ]
    }
   ],
   "source": [
    "# Assuming `total_balance_df` is the DataFrame with the aggregated total balances\n",
    "gold_container_path = \"abfss://gold@strgacc2831.dfs.core.windows.net/total_balance_per_customer.csv\"\n",
    "\n",
    "result_df.write.format(\"csv\").mode(\"overwrite\").option(\"header\", \"true\").save(\"abfss://gold@strgacc2831.dfs.core.windows.net/total_balance_per_customer.csv\")\n",
    "\n",
    "result_df.show()"
   ]
  }
 ],
 "metadata": {
  "application/vnd.databricks.v1+notebook": {
   "dashboards": [],
   "environmentMetadata": {
    "base_environment": "",
    "client": "1"
   },
   "language": "python",
   "notebookMetadata": {
    "pythonIndentUnit": 2
   },
   "notebookName": "ETL Processing",
   "widgets": {}
  },
  "language_info": {
   "name": "python"
  }
 },
 "nbformat": 4,
 "nbformat_minor": 0
}