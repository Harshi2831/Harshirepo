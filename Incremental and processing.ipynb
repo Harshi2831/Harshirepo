{
 "cells": [
  {
   "cell_type": "code",
   "execution_count": 0,
   "metadata": {
    "application/vnd.databricks.v1+cell": {
     "cellMetadata": {
      "byteLimit": 2048000,
      "rowLimit": 10000
     },
     "inputWidgets": {},
     "nuid": "d48c6ef1-c64f-4ce3-b1e3-52f4bf5e162b",
     "showTitle": false,
     "tableResultSettingsMap": {},
     "title": ""
    }
   },
   "outputs": [],
   "source": [
    "storage_account_name = \"strgacc2831\"\n",
    "storage_account_key = \"nK93TB+8Q47M4LiV45af/QN9W01RMS1NJYTe3ITBfE/QetSi7jp2jAtmC/DsNenMGt5aNqGjDBxR+AStA8o5SA==\"\n",
    "\n",
    "# Configure Spark to use the storage account key\n",
    "spark.conf.set(f\"fs.azure.account.key.strgacc2831.dfs.core.windows.net\",\"nK93TB+8Q47M4LiV45af/QN9W01RMS1NJYTe3ITBfE/QetSi7jp2jAtmC/DsNenMGt5aNqGjDBxR+AStA8o5SA==\")"
   ]
  },
  {
   "cell_type": "code",
   "execution_count": 0,
   "metadata": {
    "application/vnd.databricks.v1+cell": {
     "cellMetadata": {
      "byteLimit": 2048000,
      "rowLimit": 10000
     },
     "inputWidgets": {},
     "nuid": "a7c34e45-c4b9-4788-a234-44620a8296d9",
     "showTitle": false,
     "tableResultSettingsMap": {},
     "title": ""
    }
   },
   "outputs": [
    {
     "output_type": "stream",
     "name": "stdout",
     "output_type": "stream",
     "text": [
      "+----------+-----------+------------+-------+\n|account_id|customer_id|account_type|balance|\n+----------+-----------+------------+-------+\n|         1|         45|     Savings|1000.50|\n|         2|         12|    Checking|2500.75|\n|         3|         78|     Savings|1500.00|\n|         4|         34|    Checking|3000.25|\n|         5|         56|     Savings| 500.00|\n+----------+-----------+------------+-------+\nonly showing top 5 rows\n\n+-----------+----------+---------+--------------+---------+-----+------+\n|customer_id|first_name|last_name|       address|     city|state|   zip|\n+-----------+----------+---------+--------------+---------+-----+------+\n|          1|      John|      Doe|    123 Elm St|  Toronto|   ON|M4B1B3|\n|          2|      Jane|    Smith| 456 Maple Ave|   Ottawa|   ON|K1A0B1|\n|          3|   Michael|  Johnson|    789 Oak Dr| Montreal|   QC|H1A1A1|\n|          4|     Emily|    Davis|   101 Pine Rd|  Calgary|   AB|T2A0A1|\n|          5|     David|   Wilson|202 Birch Blvd|Vancouver|   BC|V5K0A1|\n+-----------+----------+---------+--------------+---------+-----+------+\nonly showing top 5 rows\n\n+----------+-------+------------+--------------+\n|payment_id|loan_id|payment_date|payment_amount|\n+----------+-------+------------+--------------+\n|         1|     45|  2024-01-01|        100.00|\n|         2|     23|  2024-01-02|        150.00|\n|         3|     67|  2024-01-03|        200.00|\n|         4|     89|  2024-01-04|        250.00|\n|         5|     12|  2024-01-05|        300.00|\n+----------+-------+------------+--------------+\nonly showing top 5 rows\n\n+-------+-----------+-----------+-------------+---------+\n|loan_id|customer_id|loan_amount|interest_rate|loan_term|\n+-------+-----------+-----------+-------------+---------+\n|      1|         45|   10000.50|          5.5|       36|\n|      2|         12|   20000.75|          4.5|       48|\n|      3|         78|   15000.00|          6.0|       60|\n|      4|         34|   30000.25|          3.5|       24|\n|      5|         56|   25000.00|          5.0|       36|\n+-------+-----------+-----------+-------------+---------+\nonly showing top 5 rows\n\n+--------------+----------+----------------+------------------+----------------+\n|transaction_id|account_id|transaction_date|transaction_amount|transaction_type|\n+--------------+----------+----------------+------------------+----------------+\n|             1|        45|      2024-01-01|            100.50|         Deposit|\n|             2|        12|      2024-01-02|            200.75|      Withdrawal|\n|             3|        78|      2024-01-03|            150.00|         Deposit|\n|             4|        34|      2024-01-04|            300.25|      Withdrawal|\n|             5|        56|      2024-01-05|            250.00|         Deposit|\n+--------------+----------+----------------+------------------+----------------+\nonly showing top 5 rows\n\n"
     ]
    }
   ],
   "source": [
    "# Assuming both files are in CSV format\n",
    "accounts_df = spark.read.format(\"csv\").option(\"header\", \"true\").load(\"abfss://bronze@strgacc2831.dfs.core.windows.net/accounts.csv\")\n",
    "customers_df = spark.read.format(\"csv\").option(\"header\", \"true\").load(\"abfss://bronze@strgacc2831.dfs.core.windows.net/customers.csv\")\n",
    "loan_payments_df = spark.read.format(\"csv\").option(\"header\", \"true\").load(\"abfss://bronze@strgacc2831.dfs.core.windows.net/loan_payments.csv\")\n",
    "loans_df = spark.read.format(\"csv\").option(\"header\", \"true\").load(\"abfss://bronze@strgacc2831.dfs.core.windows.net/loans.csv\")\n",
    "transactions_df = spark.read.format(\"csv\").option(\"header\", \"true\").load(\"abfss://bronze@strgacc2831.dfs.core.windows.net/transactions.csv\")\n",
    "\n",
    "accounts_df.show(5)\n",
    "customers_df.show(5)\n",
    "loan_payments_df.show(5)\n",
    "loans_df.show(5)\n",
    "transactions_df.show(5)"
   ]
  },
  {
   "cell_type": "code",
   "execution_count": 0,
   "metadata": {
    "application/vnd.databricks.v1+cell": {
     "cellMetadata": {
      "byteLimit": 2048000,
      "rowLimit": 10000
     },
     "inputWidgets": {},
     "nuid": "cb606ca3-60b4-46c1-9627-bea384942122",
     "showTitle": false,
     "tableResultSettingsMap": {},
     "title": ""
    }
   },
   "outputs": [
    {
     "output_type": "stream",
     "name": "stdout",
     "output_type": "stream",
     "text": [
      "+-----------+----------+------------+-------+\n|customer_id|account_id|account_type|balance|\n+-----------+----------+------------+-------+\n|          7|        28|    Checking|2900.00|\n|         51|        41|     Savings| 250.25|\n|         15|        38|    Checking|3900.50|\n|         54|        89|     Savings| 850.25|\n|         11|        24|    Checking|2600.00|\n|         29|        13|     Savings|1300.25|\n|         69|        65|     Savings| 550.25|\n|         42|        54|    Checking|5500.50|\n|         73|        71|     Savings| 625.75|\n|         87|        73|     Savings| 650.25|\n|         64|        14|    Checking|3200.50|\n|          3|        11|     Savings|1100.75|\n|         30|        80|    Checking|8100.00|\n|         34|         4|    Checking|3000.25|\n|         59|        69|     Savings| 600.25|\n|          8|        68|    Checking|6900.00|\n|         22|        76|    Checking|7700.00|\n|         28|        56|    Checking|5700.00|\n|         85|        33|     Savings| 150.25|\n|         16|        58|    Checking|5900.50|\n+-----------+----------+------------+-------+\nonly showing top 20 rows\n\n"
     ]
    }
   ],
   "source": [
    "# Select only the customer_id column from the customer DataFrame\n",
    "valid_customers = customers_df.select(\"customer_id\").distinct()\n",
    "\n",
    "# Join accounts with valid_customers on customer_id\n",
    "cleaned_accounts_df = accounts_df.join(valid_customers, on=\"customer_id\", how=\"inner\")\n",
    "\n",
    "cleaned_accounts_df.show(20)"
   ]
  },
  {
   "cell_type": "code",
   "execution_count": 0,
   "metadata": {
    "application/vnd.databricks.v1+cell": {
     "cellMetadata": {
      "byteLimit": 2048000,
      "rowLimit": 10000
     },
     "inputWidgets": {},
     "nuid": "26f11e33-29d3-4d0b-b9e7-791ed13a6668",
     "showTitle": false,
     "tableResultSettingsMap": {},
     "title": ""
    }
   },
   "outputs": [
    {
     "output_type": "stream",
     "name": "stdout",
     "output_type": "stream",
     "text": [
      "+----------+-----------+------------+-------+\n|account_id|customer_id|account_type|balance|\n+----------+-----------+------------+-------+\n|         1|         45|     Savings|1000.50|\n|         2|         12|    Checking|2500.75|\n|         3|         78|     Savings|1500.00|\n|         4|         34|    Checking|3000.25|\n|         5|         56|     Savings| 500.00|\n|         6|         23|    Checking|1200.50|\n|         7|         89|     Savings| 800.75|\n|         8|         67|    Checking|2200.00|\n|         9|         14|     Savings| 900.25|\n|        10|         92|    Checking|1800.50|\n+----------+-----------+------------+-------+\nonly showing top 10 rows\n\n"
     ]
    }
   ],
   "source": [
    "cleaned_accounts_df.write.format(\"csv\").mode(\"overwrite\").option(\"header\", \"true\").save(\"abfss://silver@strgacc2831.dfs.core.windows.net/cleaned_accounts.csv\")\n",
    "accounts_df.show(10)"
   ]
  },
  {
   "cell_type": "code",
   "execution_count": 0,
   "metadata": {
    "application/vnd.databricks.v1+cell": {
     "cellMetadata": {
      "byteLimit": 2048000,
      "rowLimit": 10000
     },
     "inputWidgets": {},
     "nuid": "086152ab-9690-4d0d-a071-3b8a6c97069b",
     "showTitle": false,
     "tableResultSettingsMap": {},
     "title": ""
    }
   },
   "outputs": [
    {
     "output_type": "stream",
     "name": "stdout",
     "output_type": "stream",
     "text": [
      "+----------+-----------+------------+-------+\n|account_id|customer_id|account_type|balance|\n+----------+-----------+------------+-------+\n|         7|         89|     Savings| 800.75|\n|        51|         72|     Savings| 375.75|\n|        15|         47|     Savings| 700.75|\n|        54|         42|    Checking|5500.50|\n|        11|          3|     Savings|1100.75|\n|        29|         58|     Savings|  75.25|\n|        69|         59|     Savings| 600.25|\n|        42|         36|    Checking|4300.50|\n|        73|         87|     Savings| 650.25|\n|        87|         93|     Savings| 825.75|\n+----------+-----------+------------+-------+\nonly showing top 10 rows\n\n"
     ]
    }
   ],
   "source": [
    "# Remove rows with null values in important columns\n",
    "accounts_df = accounts_df.dropna(subset=[\"account_id\", \"balance\"])\n",
    "\n",
    "# Remove duplicate rows\n",
    "accounts_df = accounts_df.dropDuplicates([\"account_id\"])\n",
    "accounts_df.show(10)\n"
   ]
  },
  {
   "cell_type": "code",
   "execution_count": 0,
   "metadata": {
    "application/vnd.databricks.v1+cell": {
     "cellMetadata": {
      "byteLimit": 2048000,
      "rowLimit": 10000
     },
     "inputWidgets": {},
     "nuid": "fc49352b-4269-4246-9743-6b699211d81f",
     "showTitle": false,
     "tableResultSettingsMap": {},
     "title": ""
    }
   },
   "outputs": [
    {
     "output_type": "stream",
     "name": "stdout",
     "output_type": "stream",
     "text": [
      "+----------+-----------+------------+-------+\n|account_id|customer_id|account_type|balance|\n+----------+-----------+------------+-------+\n|         7|         89|     Savings| 800.75|\n|        51|         72|     Savings| 375.75|\n|        15|         47|     Savings| 700.75|\n|        54|         42|    Checking|5500.50|\n|        11|          3|     Savings|1100.75|\n|        29|         58|     Savings|  75.25|\n|        69|         59|     Savings| 600.25|\n|        42|         36|    Checking|4300.50|\n|        73|         87|     Savings| 650.25|\n|        87|         93|     Savings| 825.75|\n+----------+-----------+------------+-------+\nonly showing top 10 rows\n\n"
     ]
    }
   ],
   "source": [
    "# Filter out accounts with negative balances if not required\n",
    "accounts_df = accounts_df.filter(accounts_df.balance >= 0)\n",
    "accounts_df.show(10)"
   ]
  },
  {
   "cell_type": "code",
   "execution_count": 0,
   "metadata": {
    "application/vnd.databricks.v1+cell": {
     "cellMetadata": {
      "byteLimit": 2048000,
      "rowLimit": 10000
     },
     "inputWidgets": {},
     "nuid": "b5eec5ae-7bdf-44b1-b705-e95fdb0d96b9",
     "showTitle": false,
     "tableResultSettingsMap": {},
     "title": ""
    }
   },
   "outputs": [],
   "source": [
    "# Save cleaned data as Delta format for efficient storage\n",
    "accounts_df.write.format(\"delta\").mode(\"overwrite\").save(\"/mnt/datalake/silver/accounts_cleaned\")\n",
    "customers_df.write.format(\"delta\").mode(\"overwrite\").save(\"/mnt/datalake/silver/customers_cleaned\")"
   ]
  },
  {
   "cell_type": "code",
   "execution_count": 0,
   "metadata": {
    "application/vnd.databricks.v1+cell": {
     "cellMetadata": {},
     "inputWidgets": {},
     "nuid": "555e3c0b-644d-4d1c-a484-682388efbe7d",
     "showTitle": false,
     "tableResultSettingsMap": {},
     "title": ""
    }
   },
   "outputs": [],
   "source": []
  }
 ],
 "metadata": {
  "application/vnd.databricks.v1+notebook": {
   "dashboards": [],
   "environmentMetadata": {
    "base_environment": "",
    "client": "1"
   },
   "language": "python",
   "notebookMetadata": {
    "pythonIndentUnit": 2
   },
   "notebookName": "Incremental and processing",
   "widgets": {}
  },
  "language_info": {
   "name": "python"
  }
 },
 "nbformat": 4,
 "nbformat_minor": 0
}